{
    "cells": [
        {
            "cell_type": "code",
            "execution_count": 1,
            "metadata": {},
            "outputs": [],
            "source": "import ibm_db "
        },
        {
            "cell_type": "code",
            "execution_count": 2,
            "metadata": {},
            "outputs": [
                {
                    "name": "stdout",
                    "output_type": "stream",
                    "text": "DRIVER={IBM DB2 ODBC DRIVER};DATABASE=bludb;HOSTNAME=fbd88901-ebdb-4a4f-a32e-9822b9fb237b.c1ogj3sd0tgtu0lqde00.databases.appdomain.cloud;PORT=32731;PROTOCOL=TCPIP;UID=gfj04240;PWD=mDyzBg1PTv9knpZN;\nUnable to connect:  [IBM][CLI Driver] SQL30081N  A communication error has been detected. Communication protocol being used: \"TCP/IP\".  Communication API being used: \"SOCKETS\".  Location where the error was detected: \"169.46.44.42\".  Communication function detecting the error: \"recv\".  Protocol specific error code(s): \"104\", \"*\", \"0\".  SQLSTATE=08001 SQLCODE=-30081\n"
                }
            ],
            "source": "dsn_hostname = \"fbd88901-ebdb-4a4f-a32e-9822b9fb237b.c1ogj3sd0tgtu0lqde00.databases.appdomain.cloud\" # e.g.: \"dashdb-txn-sbox-yp-dal09-04.services.dal.bluemix.net\"\ndsn_uid = \"gfj04240\"        # e.g. \"abc12345\"\ndsn_pwd = \"mDyzBg1PTv9knpZN\"      # e.g. \"7dBZ3wWt9XN6$o0J\"\n\ndsn_driver = \"{IBM DB2 ODBC DRIVER}\"\ndsn_database = \"bludb\"            # e.g. \"BLUDB\"\ndsn_port = \"32731\"                # e.g. \"50000\" \ndsn_protocol = \"TCPIP\"            # i.e. \"TCPIP\"\n\n#Create the dsn connection string\ndsn = (\n    \"DRIVER={0};\"\n    \"DATABASE={1};\"\n    \"HOSTNAME={2};\"\n    \"PORT={3};\"\n    \"PROTOCOL={4};\"\n    \"UID={5};\"\n    \"PWD={6};\").format(dsn_driver, dsn_database, dsn_hostname, dsn_port, dsn_protocol, dsn_uid, dsn_pwd)\n\nprint(dsn)\n# conn = ibm_db.connect(dsn, \"\", \"\")\n# print the connection string to check correct values are specified\ntry:\n    conn = ibm_db.connect(dsn, \"\", \"\")\n    print (\"Connected to database: \", dsn_database, \"as user: \", dsn_uid, \"on host: \", dsn_hostname)\n\nexcept:\n    print (\"Unable to connect: \", ibm_db.conn_errormsg() )\n\n"
        },
        {
            "cell_type": "code",
            "execution_count": null,
            "metadata": {},
            "outputs": [],
            "source": "stmt = ibm_db.exec_immediate(conn, \n\"CREATE TABLE Trucks(\\\nserial_no VARCHAR(20) PRIMARY KEY NOT NULL,\\\nmodel VARCHAR(20) NOT NULL,\\\nmanufacturer VARCHAR(20) NOT NULL,\\\nEngine_size VARCHAR(20) NOT NULL,\\\nTruck_class VARCHAR(20) NOT NULL)\"\n)\n"
        },
        {
            "cell_type": "code",
            "execution_count": null,
            "metadata": {},
            "outputs": [],
            "source": "stmt = ibm_db.exec_immediate(conn,\n                             \"INSERT INTO Trucks(serial_no, model, manufacturer, Engine_size, Truck_class) VALUES('12345678', 'Bronco', 'Ford', 'XXL', '1')\")"
        },
        {
            "cell_type": "code",
            "execution_count": null,
            "metadata": {},
            "outputs": [],
            "source": "stmt = ibm_db.exec_immediate(conn,\"SELECT * FROM Trucks\")\nprint(ibm_db.fetch_both(stmt))"
        },
        {
            "cell_type": "code",
            "execution_count": null,
            "metadata": {},
            "outputs": [],
            "source": "ibm_db.close(conn)"
        }
    ],
    "metadata": {
        "kernelspec": {
            "display_name": "Python 3.8",
            "language": "python",
            "name": "python3"
        },
        "language_info": {
            "codemirror_mode": {
                "name": "ipython",
                "version": 3
            },
            "file_extension": ".py",
            "mimetype": "text/x-python",
            "name": "python",
            "nbconvert_exporter": "python",
            "pygments_lexer": "ipython3",
            "version": "3.8.11"
        }
    },
    "nbformat": 4,
    "nbformat_minor": 1
}