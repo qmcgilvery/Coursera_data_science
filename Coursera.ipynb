{
    "cells": [
        {
            "cell_type": "markdown",
            "metadata": {
                "collapsed": true
            },
            "source": "# My Jupyter Notebook on IBM Watson Studio"
        },
        {
            "cell_type": "markdown",
            "metadata": {},
            "source": "**Quentin McGilvery**  \n\nMachine learning researcher"
        },
        {
            "cell_type": "markdown",
            "metadata": {},
            "source": "*I find machine learning challenging and interesting.*"
        },
        {
            "cell_type": "markdown",
            "metadata": {},
            "source": "### Cell 5 prints my name"
        },
        {
            "cell_type": "code",
            "execution_count": 1,
            "metadata": {},
            "outputs": [
                {
                    "name": "stdout",
                    "output_type": "stream",
                    "text": "My name is Quentin McGilvery\n"
                }
            ],
            "source": "print(\"My name is Quentin McGilvery\")"
        },
        {
            "cell_type": "markdown",
            "metadata": {},
            "source": "> This is a blockquote, the next two are lists. Ordered and unordered/bulleted  \n\n1. One\n2. Two\n3. Three  \n\n- First\n- Second\n- Third"
        }
    ],
    "metadata": {
        "kernelspec": {
            "display_name": "Python 3.8",
            "language": "python",
            "name": "python3"
        },
        "language_info": {
            "codemirror_mode": {
                "name": "ipython",
                "version": 3
            },
            "file_extension": ".py",
            "mimetype": "text/x-python",
            "name": "python",
            "nbconvert_exporter": "python",
            "pygments_lexer": "ipython3",
            "version": "3.8.11"
        }
    },
    "nbformat": 4,
    "nbformat_minor": 1
}